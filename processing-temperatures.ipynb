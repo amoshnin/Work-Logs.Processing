{
 "cells": [
  {
   "cell_type": "code",
   "execution_count": 36,
   "metadata": {},
   "outputs": [],
   "source": [
    "import pandas as pd\n",
    "import re\n",
    "import os\n",
    "from tqdm import tqdm"
   ]
  },
  {
   "cell_type": "code",
   "execution_count": 37,
   "metadata": {},
   "outputs": [],
   "source": [
    "input_folder = \"data-temperatures\"\n",
    "output_folder = \"output-temperatures\""
   ]
  },
  {
   "cell_type": "code",
   "execution_count": 38,
   "metadata": {},
   "outputs": [],
   "source": [
    "def process_dutgraph_log(input_file_name):\n",
    "  \"\"\"\n",
    "  Processes a dutgraph.log file and extracts relevant information.\n",
    "\n",
    "  Args:\n",
    "    file_path: Path to the dutgraph.log file.\n",
    "\n",
    "  Returns:\n",
    "    A pandas DataFrame containing the extracted data.\n",
    "  \"\"\"\n",
    "  input_file_path = os.path.join(input_folder, input_file_name)\n",
    "  with open(input_file_path, 'r') as f:\n",
    "    lines = f.readlines()\n",
    "\n",
    "  # Extract Zone and Slot information\n",
    "  zone_slot_match = re.search(r'Zone (\\d+), Slot (\\d+)', ''.join(lines))\n",
    "  zone = int(zone_slot_match.group(1))\n",
    "  slot = int(zone_slot_match.group(2))\n",
    "\n",
    "  # Extract product name\n",
    "  product_match = re.search(r'Mapping source: .+\\\\(.*?)\\\\', ''.join(lines))\n",
    "  product = product_match.group(1)\n",
    "\n",
    "  # Read the data into a pandas DataFrame\n",
    "  df = pd.read_csv(input_file_path, skiprows=14)\n",
    "\n",
    "  cols_to_keep = ['COOLDUTY', 'ES0_TEMP', 'HTR_DUTY', 'SNK_TEMP']\n",
    "  all_cols = [f\"{col}.{socket_num}\" for socket_num in range(8) for col in cols_to_keep]\n",
    "\n",
    "  final_df = df[all_cols]\n",
    "\n",
    "  output_file_name = f\"{zone}_{slot}_{product}.csv\"\n",
    "  output_file_path = os.path.join(output_folder, output_file_name)\n",
    "\n",
    "  final_df.to_csv(output_file_path) # index=False\n",
    "\n",
    "  return df[all_cols]"
   ]
  },
  {
   "cell_type": "code",
   "execution_count": 39,
   "metadata": {},
   "outputs": [
    {
     "name": "stderr",
     "output_type": "stream",
     "text": [
      "  0%|          | 0/50 [00:00<?, ?it/s]"
     ]
    },
    {
     "name": "stdout",
     "output_type": "stream",
     "text": [
      "dutgraph04_Z1S00.log\n",
      "dutgraph05_Z1S01.log\n",
      "dutgraph09_Z1S01.log\n",
      "dutgraph10_Z1S02.log\n",
      "dutgraph12_Z1S00.log\n"
     ]
    },
    {
     "name": "stderr",
     "output_type": "stream",
     "text": [
      " 10%|█         | 5/50 [00:01<00:13,  3.32it/s]"
     ]
    },
    {
     "name": "stdout",
     "output_type": "stream",
     "text": [
      "dutgraph13_Z1S01.log\n"
     ]
    },
    {
     "name": "stderr",
     "output_type": "stream",
     "text": [
      " 12%|█▏        | 6/50 [00:02<00:24,  1.78it/s]"
     ]
    },
    {
     "name": "stdout",
     "output_type": "stream",
     "text": [
      "dutgraph14_Z1S02.log\n"
     ]
    },
    {
     "name": "stderr",
     "output_type": "stream",
     "text": [
      " 14%|█▍        | 7/50 [00:04<00:33,  1.30it/s]"
     ]
    },
    {
     "name": "stdout",
     "output_type": "stream",
     "text": [
      "dutgraph15_Z1S03.log\n"
     ]
    },
    {
     "name": "stderr",
     "output_type": "stream",
     "text": [
      " 16%|█▌        | 8/50 [00:05<00:39,  1.07it/s]"
     ]
    },
    {
     "name": "stdout",
     "output_type": "stream",
     "text": [
      "dutgraph37_Z0S06.log\n"
     ]
    },
    {
     "name": "stderr",
     "output_type": "stream",
     "text": [
      " 18%|█▊        | 9/50 [00:06<00:31,  1.30it/s]"
     ]
    },
    {
     "name": "stdout",
     "output_type": "stream",
     "text": [
      "dutgraph38_Z0S05.log\n"
     ]
    },
    {
     "name": "stderr",
     "output_type": "stream",
     "text": [
      " 20%|██        | 10/50 [00:06<00:26,  1.54it/s]"
     ]
    },
    {
     "name": "stdout",
     "output_type": "stream",
     "text": [
      "dutgraph39_Z0S04.log\n"
     ]
    },
    {
     "name": "stderr",
     "output_type": "stream",
     "text": [
      " 22%|██▏       | 11/50 [00:06<00:21,  1.79it/s]"
     ]
    },
    {
     "name": "stdout",
     "output_type": "stream",
     "text": [
      "dutgraph40_Z0S03.log\n"
     ]
    },
    {
     "name": "stderr",
     "output_type": "stream",
     "text": [
      " 24%|██▍       | 12/50 [00:07<00:18,  2.03it/s]"
     ]
    },
    {
     "name": "stdout",
     "output_type": "stream",
     "text": [
      "dutgraph41_Z0S02.log\n"
     ]
    },
    {
     "name": "stderr",
     "output_type": "stream",
     "text": [
      " 26%|██▌       | 13/50 [00:07<00:16,  2.24it/s]"
     ]
    },
    {
     "name": "stdout",
     "output_type": "stream",
     "text": [
      "dutgraph42_Z0S01.log\n"
     ]
    },
    {
     "name": "stderr",
     "output_type": "stream",
     "text": [
      " 28%|██▊       | 14/50 [00:07<00:14,  2.40it/s]"
     ]
    },
    {
     "name": "stdout",
     "output_type": "stream",
     "text": [
      "dutgraph43_Z1S00.log\n"
     ]
    },
    {
     "name": "stderr",
     "output_type": "stream",
     "text": [
      " 30%|███       | 15/50 [00:09<00:22,  1.54it/s]"
     ]
    },
    {
     "name": "stdout",
     "output_type": "stream",
     "text": [
      "dutgraph44_Z1S01.log\n"
     ]
    },
    {
     "name": "stderr",
     "output_type": "stream",
     "text": [
      " 32%|███▏      | 16/50 [00:10<00:27,  1.23it/s]"
     ]
    },
    {
     "name": "stdout",
     "output_type": "stream",
     "text": [
      "dutgraph45_Z1S02.log\n"
     ]
    },
    {
     "name": "stderr",
     "output_type": "stream",
     "text": [
      " 34%|███▍      | 17/50 [00:11<00:30,  1.09it/s]"
     ]
    },
    {
     "name": "stdout",
     "output_type": "stream",
     "text": [
      "dutgraph46_Z1S03.log\n"
     ]
    },
    {
     "name": "stderr",
     "output_type": "stream",
     "text": [
      " 36%|███▌      | 18/50 [00:12<00:31,  1.02it/s]"
     ]
    },
    {
     "name": "stdout",
     "output_type": "stream",
     "text": [
      "dutgraph47_Z0S01.log\n",
      "dutgraph48_Z0S00.log\n",
      "dutgraph49_Z0S01.log\n"
     ]
    },
    {
     "name": "stderr",
     "output_type": "stream",
     "text": [
      " 42%|████▏     | 21/50 [00:13<00:16,  1.75it/s]"
     ]
    },
    {
     "name": "stdout",
     "output_type": "stream",
     "text": [
      "dutgraph50_Z0S02.log\n"
     ]
    },
    {
     "name": "stderr",
     "output_type": "stream",
     "text": [
      " 44%|████▍     | 22/50 [00:13<00:16,  1.68it/s]"
     ]
    },
    {
     "name": "stdout",
     "output_type": "stream",
     "text": [
      "dutgraph51_Z0S04.log\n"
     ]
    },
    {
     "name": "stderr",
     "output_type": "stream",
     "text": [
      " 46%|████▌     | 23/50 [00:14<00:16,  1.64it/s]"
     ]
    },
    {
     "name": "stdout",
     "output_type": "stream",
     "text": [
      "dutgraph52_Z0S05.log\n"
     ]
    },
    {
     "name": "stderr",
     "output_type": "stream",
     "text": [
      " 48%|████▊     | 24/50 [00:15<00:16,  1.56it/s]"
     ]
    },
    {
     "name": "stdout",
     "output_type": "stream",
     "text": [
      "dutgraph53_Z0S05.log\n"
     ]
    },
    {
     "name": "stderr",
     "output_type": "stream",
     "text": [
      "\n"
     ]
    },
    {
     "ename": "AttributeError",
     "evalue": "'NoneType' object has no attribute 'group'",
     "output_type": "error",
     "traceback": [
      "\u001b[1;31m---------------------------------------------------------------------------\u001b[0m",
      "\u001b[1;31mAttributeError\u001b[0m                            Traceback (most recent call last)",
      "Cell \u001b[1;32mIn[39], line 4\u001b[0m\n\u001b[0;32m      2\u001b[0m \u001b[38;5;28;01mfor\u001b[39;00m file_name \u001b[38;5;129;01min\u001b[39;00m tqdm(files):\n\u001b[0;32m      3\u001b[0m     \u001b[38;5;28mprint\u001b[39m(file_name)\n\u001b[1;32m----> 4\u001b[0m     \u001b[43mprocess_dutgraph_log\u001b[49m\u001b[43m(\u001b[49m\u001b[43mfile_name\u001b[49m\u001b[43m)\u001b[49m\n",
      "Cell \u001b[1;32mIn[38], line 22\u001b[0m, in \u001b[0;36mprocess_dutgraph_log\u001b[1;34m(input_file_name)\u001b[0m\n\u001b[0;32m     20\u001b[0m \u001b[38;5;66;03m# Extract product name\u001b[39;00m\n\u001b[0;32m     21\u001b[0m product_match \u001b[38;5;241m=\u001b[39m re\u001b[38;5;241m.\u001b[39msearch(\u001b[38;5;124mr\u001b[39m\u001b[38;5;124m'\u001b[39m\u001b[38;5;124mMapping source: .+\u001b[39m\u001b[38;5;130;01m\\\\\u001b[39;00m\u001b[38;5;124m(.*?)\u001b[39m\u001b[38;5;130;01m\\\\\u001b[39;00m\u001b[38;5;124m'\u001b[39m, \u001b[38;5;124m'\u001b[39m\u001b[38;5;124m'\u001b[39m\u001b[38;5;241m.\u001b[39mjoin(lines))\n\u001b[1;32m---> 22\u001b[0m product \u001b[38;5;241m=\u001b[39m \u001b[43mproduct_match\u001b[49m\u001b[38;5;241;43m.\u001b[39;49m\u001b[43mgroup\u001b[49m(\u001b[38;5;241m1\u001b[39m)\n\u001b[0;32m     24\u001b[0m \u001b[38;5;66;03m# Read the data into a pandas DataFrame\u001b[39;00m\n\u001b[0;32m     25\u001b[0m df \u001b[38;5;241m=\u001b[39m pd\u001b[38;5;241m.\u001b[39mread_csv(input_file_path, skiprows\u001b[38;5;241m=\u001b[39m\u001b[38;5;241m14\u001b[39m)\n",
      "\u001b[1;31mAttributeError\u001b[0m: 'NoneType' object has no attribute 'group'"
     ]
    }
   ],
   "source": [
    "files = os.listdir(input_folder)\n",
    "for file_name in tqdm(files):\n",
    "    print(file_name)\n",
    "    process_dutgraph_log(file_name)\n"
   ]
  }
 ],
 "metadata": {
  "kernelspec": {
   "display_name": "tmon_alert",
   "language": "python",
   "name": "python3"
  },
  "language_info": {
   "codemirror_mode": {
    "name": "ipython",
    "version": 3
   },
   "file_extension": ".py",
   "mimetype": "text/x-python",
   "name": "python",
   "nbconvert_exporter": "python",
   "pygments_lexer": "ipython3",
   "version": "3.12.4"
  }
 },
 "nbformat": 4,
 "nbformat_minor": 2
}
