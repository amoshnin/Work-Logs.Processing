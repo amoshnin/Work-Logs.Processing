{
 "cells": [
  {
   "cell_type": "code",
   "execution_count": 53,
   "metadata": {},
   "outputs": [],
   "source": [
    "import pandas as pd\n",
    "import matplotlib.pyplot as plt\n",
    "import os\n",
    "import re"
   ]
  },
  {
   "cell_type": "code",
   "execution_count": 54,
   "metadata": {},
   "outputs": [],
   "source": [
    "\n",
    "def extract_data(file_path):\n",
    "    with open(file_path, 'r') as f:\n",
    "        content = f.readlines()\n",
    "\n",
    "    activity_log_line = None\n",
    "    for line in content:\n",
    "        if \"Activity log file:\" in line:\n",
    "            activity_log_line = line\n",
    "            break\n",
    "\n",
    "    if activity_log_line:\n",
    "        # Extract the file name from the line\n",
    "        file_name = re.findall(r\"Activity log file:\\s*(.*?\\.dat)\", activity_log_line)[0]\n",
    "\n",
    "        # Extract machine_number (S414) from the file name\n",
    "        machine_number = re.findall(r'S(\\d+)', file_name)[0]\n",
    "\n",
    "        # Extract control_number (CTRL4067) from the file name\n",
    "        control_number = re.findall(r'CTRL(\\d+)', file_name)[0]\n",
    "\n",
    "    # Find the line that contains \"Interrupt\"\n",
    "    interrupt_line = None\n",
    "    for line in content:\n",
    "        if \"Interrupt\" in line:\n",
    "            interrupt_line = line\n",
    "            break\n",
    "\n",
    "    s_vsense = None\n",
    "    s_ovp = None\n",
    "    for line in content:\n",
    "        if \"S_VSENSE\" in line:\n",
    "            print(line)\n",
    "            s_vsense = re.findall(r\"(-?\\d+\\.?\\d*)\", line)[0]\n",
    "        if \"S_OVP\" in line:\n",
    "            s_ovp = re.findall(r\"(-?\\d+\\.?\\d*)\", line)[0]\n",
    "\n",
    "    if interrupt_line:\n",
    "        # Extract timestamp\n",
    "        timestamp = re.findall(r'\\d{2}/\\d{2}/\\d{4} \\d{2}:\\d{2}:\\d{2}', interrupt_line)[0]\n",
    "\n",
    "        # Find the last test step before the interruption\n",
    "        test_step = None\n",
    "        for i in range(content.index(interrupt_line) - 1, 0, -1):\n",
    "            if \"Test Step:\" in content[i]:\n",
    "                test_step = re.findall(r\"\\*+\\s*Test Step:\\s*(.*?)\\s*\\*+\\s*\", content[i])[0]\n",
    "                break\n",
    "\n",
    "        return {\n",
    "            'machine_number': machine_number,\n",
    "            'control_number': control_number,\n",
    "            'timestamp': timestamp,\n",
    "            'test_step': test_step,\n",
    "            'S_VSENSE': s_vsense,\n",
    "            'S_OVP': s_ovp\n",
    "        }\n",
    "    else:\n",
    "        return None"
   ]
  },
  {
   "cell_type": "code",
   "execution_count": 55,
   "metadata": {},
   "outputs": [],
   "source": [
    "\n",
    "def process_folder(folder_path):\n",
    "    all_data = []\n",
    "    for filename in os.listdir(folder_path):\n",
    "        if filename.endswith(\".dat\"):\n",
    "            file_path = os.path.join(folder_path, filename)\n",
    "            data = extract_data(file_path)\n",
    "            if data:\n",
    "                all_data.append(data)\n",
    "\n",
    "    return pd.DataFrame(all_data)"
   ]
  },
  {
   "cell_type": "code",
   "execution_count": 56,
   "metadata": {},
   "outputs": [],
   "source": [
    "\n",
    "def visualize_data(df):\n",
    "    # Convert timestamp to datetime for easier plotting\n",
    "    df['timestamp'] = pd.to_datetime(df['timestamp'])\n",
    "\n",
    "    # Scatter Plot\n",
    "    plt.figure(figsize=(10, 6))\n",
    "    plt.scatter(df['timestamp'], df['S_VSENSE'], label='S_VSENSE', marker='o')\n",
    "    plt.scatter(df['timestamp'], df['S_OVP'], label='S_OVP', marker='x')\n",
    "    plt.xlabel('Timestamp')\n",
    "    plt.ylabel('Values')\n",
    "    plt.title('S_VSENSE and S_OVP Over Time')\n",
    "    plt.legend()\n",
    "    plt.xticks(rotation=45)\n",
    "    plt.tight_layout()\n",
    "    plt.show()\n",
    "\n",
    "    # Box Plot (Filtered by Test Step)\n",
    "    plt.figure(figsize=(10, 6))\n",
    "    df.boxplot(column=['S_VSENSE', 'S_OVP'], by='test_step', rot=45)\n",
    "    plt.xlabel('Test Step')\n",
    "    plt.ylabel('Values')\n",
    "    plt.title('S_VSENSE and S_OVP Grouped by Test Step')\n",
    "    plt.tight_layout()\n",
    "    plt.show()"
   ]
  },
  {
   "cell_type": "code",
   "execution_count": 57,
   "metadata": {},
   "outputs": [
    {
     "name": "stdout",
     "output_type": "stream",
     "text": [
      "Breithorn\n",
      "S_VSENSE            3.731     \n",
      "\n",
      "S_VSENSE            3.731     \n",
      "\n",
      "S_VSENSE            1.298     \n",
      "\n",
      "S_VSENSE            1.298     \n",
      "\n",
      "S_VSENSE            3.751     \n",
      "\n",
      "S_VSENSE            3.731     \n",
      "\n",
      "S_VSENSE            3.731     \n",
      "\n"
     ]
    }
   ],
   "source": [
    "if True:\n",
    "    folder_path = \"data-voltages\"  # Replace with the actual path to your folder\n",
    "    for product_name in os.listdir(folder_path):\n",
    "        print(product_name)\n",
    "        product_folder_path = os.path.join(folder_path, product_name)\n",
    "        df = process_folder(product_folder_path)\n",
    "        df.to_csv(f\"{product_name}-output.csv\", index=False)  # Save data to CSV\n",
    "        visualize_data(df)"
   ]
  }
 ],
 "metadata": {
  "kernelspec": {
   "display_name": "tmon_alert",
   "language": "python",
   "name": "python3"
  },
  "language_info": {
   "codemirror_mode": {
    "name": "ipython",
    "version": 3
   },
   "file_extension": ".py",
   "mimetype": "text/x-python",
   "name": "python",
   "nbconvert_exporter": "python",
   "pygments_lexer": "ipython3",
   "version": "3.12.4"
  }
 },
 "nbformat": 4,
 "nbformat_minor": 2
}
