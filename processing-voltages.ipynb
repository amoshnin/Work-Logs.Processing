{
 "cells": [
  {
   "cell_type": "code",
   "execution_count": 11,
   "metadata": {},
   "outputs": [],
   "source": [
    "import pandas as pd\n",
    "import re\n",
    "import csv\n",
    "import os"
   ]
  },
  {
   "cell_type": "code",
   "execution_count": 12,
   "metadata": {},
   "outputs": [],
   "source": [
    "data_path = \"data-voltages\""
   ]
  },
  {
   "cell_type": "code",
   "execution_count": 13,
   "metadata": {},
   "outputs": [],
   "source": [
    "def extract_data(file_path):\n",
    "  \"\"\"\n",
    "  Extracts relevant data from a .dat file.\n",
    "\n",
    "  Args:\n",
    "    file_path: The path to the .dat file.\n",
    "\n",
    "  Returns:\n",
    "    A dictionary containing the extracted data.\n",
    "  \"\"\"\n",
    "\n",
    "  data = {}\n",
    "  with open(file_path, 'r') as f:\n",
    "    for line in f:\n",
    "      # Extract System Number (assuming it's after 'SerialNumber = ')\n",
    "      match = re.search(r'System Serial Number = (\\d+)', line)\n",
    "      if match:\n",
    "        data['System Number'] = match.group(1)\n",
    "\n",
    "      # Extract Slot and Zone (assuming they're in lines like '> Zone: 12  Slot: 12')\n",
    "      match = re.search(r'> Zone:\\s*(\\d+)\\s+Slot:\\s*(\\d+)', line)\n",
    "      if match:\n",
    "        data['Zone'] = match.group(1)\n",
    "        data['Slot'] = match.group(2)\n",
    "\n",
    "      # Extract Test Step (assuming it's in lines like '***** Test Step: Power_Up *****')\n",
    "      match = re.search(r'***** Test Step:\\s*([\\w_]+)\\s*****', line)\n",
    "      if match:\n",
    "        data['Test Step'] = match.group(1)\n",
    "\n",
    "      # Extract S_VSENSE and S_OVP (you'll need to provide the exact pattern)\n",
    "      # Example (replace with your actual pattern):\n",
    "      match = re.search(r'S_VSENSE\\s*=\\s*([\\d\\.]+)\\s+S_OVP\\s*=\\s*([\\d\\.]+)', line)\n",
    "      if match:\n",
    "        data['S_VSENSE'] = match.group(1)\n",
    "        data['S_OVP'] = match.group(2)\n",
    "\n",
    "    return data"
   ]
  },
  {
   "cell_type": "code",
   "execution_count": 14,
   "metadata": {},
   "outputs": [],
   "source": [
    "def process_files(dat_files, csv_file):\n",
    "  \"\"\"\n",
    "  Processes multiple .dat files and writes extracted data to a CSV file.\n",
    "\n",
    "  Args:\n",
    "    dat_files: A list of paths to .dat files.\n",
    "    csv_file: The path to the output CSV file.\n",
    "  \"\"\"\n",
    "  with open(csv_file, 'w', newline='') as csvfile:\n",
    "    fieldnames = ['System Number', 'Zone', 'Slot', 'Test Step', 'S_VSENSE', 'S_OVP']\n",
    "    writer = csv.DictWriter(csvfile, fieldnames=fieldnames)\n",
    "    writer.writeheader()\n",
    "\n",
    "    for dat_file in dat_files:\n",
    "      data = extract_data(dat_file)\n",
    "      if data:  # Only write if data was extracted\n",
    "        writer.writerow(data)"
   ]
  },
  {
   "cell_type": "code",
   "execution_count": 15,
   "metadata": {},
   "outputs": [],
   "source": [
    "dat_file_list = [os.path.join(data_path, \"Breithorn\", \"BRH_C1_HTOL7_T504_S414_CTRL4067_act12_14.dat\")]  # Replace with your file list\n",
    "csv_output = \"output.csv\"\n",
    "\n",
    "process_files(dat_file_list, csv_output)"
   ]
  }
 ],
 "metadata": {
  "kernelspec": {
   "display_name": "tmon_alert",
   "language": "python",
   "name": "python3"
  },
  "language_info": {
   "codemirror_mode": {
    "name": "ipython",
    "version": 3
   },
   "file_extension": ".py",
   "mimetype": "text/x-python",
   "name": "python",
   "nbconvert_exporter": "python",
   "pygments_lexer": "ipython3",
   "version": "3.12.4"
  }
 },
 "nbformat": 4,
 "nbformat_minor": 2
}
