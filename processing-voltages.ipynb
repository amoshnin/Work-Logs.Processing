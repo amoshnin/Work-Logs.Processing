{
 "cells": [
  {
   "cell_type": "code",
   "execution_count": 100,
   "metadata": {},
   "outputs": [],
   "source": [
    "import pandas as pd\n",
    "import matplotlib.pyplot as plt\n",
    "import os\n",
    "import re"
   ]
  },
  {
   "cell_type": "code",
   "execution_count": 101,
   "metadata": {},
   "outputs": [],
   "source": [
    "\n",
    "def extract_data(file_path):\n",
    "    with open(file_path, 'r') as f:\n",
    "        content = f.readlines()\n",
    "\n",
    "    activity_log_line = None\n",
    "    for line in content:\n",
    "        if \"Activity log file:\" in line:\n",
    "            activity_log_line = line\n",
    "            break\n",
    "\n",
    "    if activity_log_line:\n",
    "        # Extract the file name from the line\n",
    "        file_name = re.findall(r\"Activity log file:\\s*(.*?\\.dat)\", activity_log_line)[0]\n",
    "\n",
    "        # Extract machine_number (S414) from the file name\n",
    "        machine_number = re.findall(r'S(\\d+)', file_name)[0]\n",
    "\n",
    "        # Extract control_number (CTRL4067) from the file name\n",
    "        control_number = re.findall(r'CTRL(\\d+)', file_name)[0]\n",
    "\n",
    "    # Find the line that contains \"Interrupt\"\n",
    "    interrupt_line = None\n",
    "    for line in content:\n",
    "        if \"Interrupt\" in line:\n",
    "            interrupt_line = line\n",
    "            break\n",
    "\n",
    "    s_vsense = None\n",
    "    s_ovp = None\n",
    "    for line in content:\n",
    "        if \"S_VSENSE\" in line:\n",
    "            s_vsense = re.findall(r\"(-?\\d+\\.?\\d*)\", line)[0]\n",
    "        if \"S_OVP\" in line:\n",
    "            s_ovp = re.findall(r\"(-?\\d+\\.?\\d*)\", line)[0]\n",
    "\n",
    "    if interrupt_line:\n",
    "        # Extract timestamp\n",
    "        timestamp = re.findall(r'\\d{2}/\\d{2}/\\d{4} \\d{2}:\\d{2}:\\d{2}', interrupt_line)[0]\n",
    "\n",
    "        # Find the last test step before the interruption\n",
    "        test_step = None\n",
    "        for i in range(content.index(interrupt_line) - 1, 0, -1):\n",
    "            if \"Test Step:\" in content[i]:\n",
    "                test_step = re.findall(r\"\\*+\\s*Test Step:\\s*(.*?)\\s*\\*+\\s*\", content[i])[0]\n",
    "                break\n",
    "\n",
    "        return {\n",
    "            'machine_number': machine_number,\n",
    "            'control_number': control_number,\n",
    "            'timestamp': timestamp,\n",
    "            'test_step': test_step,\n",
    "            'S_VSENSE': s_vsense,\n",
    "            'S_OVP': s_ovp\n",
    "        }\n",
    "    else:\n",
    "        return None"
   ]
  },
  {
   "cell_type": "code",
   "execution_count": 102,
   "metadata": {},
   "outputs": [],
   "source": [
    "\n",
    "def process_folder(folder_path):\n",
    "    all_data = []\n",
    "    for filename in os.listdir(folder_path):\n",
    "        if filename.endswith(\".dat\"):\n",
    "            file_path = os.path.join(folder_path, filename)\n",
    "            data = extract_data(file_path)\n",
    "            if data:\n",
    "                all_data.append(data)\n",
    "\n",
    "    return pd.DataFrame(all_data)"
   ]
  },
  {
   "cell_type": "code",
   "execution_count": 103,
   "metadata": {},
   "outputs": [
    {
     "name": "stdout",
     "output_type": "stream",
     "text": [
      "Breithorn\n",
      "Strix_Halo\n"
     ]
    }
   ],
   "source": [
    "if True:\n",
    "    folder_path = \"data-voltages\"  # Replace with the actual path to your folder\n",
    "    for product_name in os.listdir(folder_path):\n",
    "        print(product_name)\n",
    "        product_folder_path = os.path.join(folder_path, product_name)\n",
    "        df = process_folder(product_folder_path)\n",
    "        df.to_csv(f\"output-voltages/{product_name}-output.csv\", index=False)  # Save data to CSV"
   ]
  },
  {
   "cell_type": "code",
   "execution_count": 104,
   "metadata": {},
   "outputs": [],
   "source": [
    "import altair as alt"
   ]
  },
  {
   "cell_type": "code",
   "execution_count": 105,
   "metadata": {},
   "outputs": [],
   "source": [
    "def visualise(product_name):\n",
    "    df = pd.read_csv(f\"output-voltages/{product_name}-output.csv\", parse_dates=['timestamp'])\n",
    "    df_melted = df.melt(\n",
    "        id_vars=['machine_number', 'control_number', 'timestamp', 'test_step'],\n",
    "        value_vars=['S_VSENSE', 'S_OVP'],\n",
    "        var_name='metric',\n",
    "        value_name='value'\n",
    "    )\n",
    "\n",
    "    # Create a selection for filtering.\n",
    "    selection = alt.selection_single(fields=['machine_number', 'control_number', 'test_step'], bind='legend')\n",
    "\n",
    "    # Create the Altair chart.\n",
    "    chart = (\n",
    "    alt.Chart(df_melted)\n",
    "    .mark_point()\n",
    "    .encode(\n",
    "        x=alt.X('timestamp', axis=alt.Axis(title='Timestamp')),\n",
    "        y=alt.Y('value', axis=alt.Axis(title='Value')),\n",
    "        color=alt.Color('metric', legend=alt.Legend(title='Metric')),\n",
    "        opacity=alt.condition(selection, alt.value(1), alt.value(0.2)),\n",
    "        tooltip=['timestamp', 'value', 'metric', 'machine_number', 'control_number', 'test_step']\n",
    "    )\n",
    "    .properties(title='S_VSENSE and S_OVP Over Time')\n",
    "    .add_selection(selection)\n",
    "    .interactive()\n",
    "    )\n",
    "\n",
    "    chart.display()"
   ]
  },
  {
   "cell_type": "code",
   "execution_count": 106,
   "metadata": {},
   "outputs": [
    {
     "name": "stderr",
     "output_type": "stream",
     "text": [
      "C:\\Users\\amoshnin\\AppData\\Local\\Temp\\ipykernel_42476\\1964755902.py:11: AltairDeprecationWarning: Deprecated in `altair=5.0.0`. Use selection_point instead.\n",
      "  selection = alt.selection_single(fields=['machine_number', 'control_number', 'test_step'], bind='legend')\n",
      "C:\\Users\\amoshnin\\AppData\\Local\\Temp\\ipykernel_42476\\1964755902.py:25: AltairDeprecationWarning: Deprecated in `altair=5.0.0`. Use add_params instead.\n",
      "  .add_selection(selection)\n"
     ]
    },
    {
     "data": {
      "text/html": [
       "\n",
       "<style>\n",
       "  #altair-viz-20bb71eba34245b3aca5d38a8e8bcf44.vega-embed {\n",
       "    width: 100%;\n",
       "    display: flex;\n",
       "  }\n",
       "\n",
       "  #altair-viz-20bb71eba34245b3aca5d38a8e8bcf44.vega-embed details,\n",
       "  #altair-viz-20bb71eba34245b3aca5d38a8e8bcf44.vega-embed details summary {\n",
       "    position: relative;\n",
       "  }\n",
       "</style>\n",
       "<div id=\"altair-viz-20bb71eba34245b3aca5d38a8e8bcf44\"></div>\n",
       "<script type=\"text/javascript\">\n",
       "  var VEGA_DEBUG = (typeof VEGA_DEBUG == \"undefined\") ? {} : VEGA_DEBUG;\n",
       "  (function(spec, embedOpt){\n",
       "    let outputDiv = document.currentScript.previousElementSibling;\n",
       "    if (outputDiv.id !== \"altair-viz-20bb71eba34245b3aca5d38a8e8bcf44\") {\n",
       "      outputDiv = document.getElementById(\"altair-viz-20bb71eba34245b3aca5d38a8e8bcf44\");\n",
       "    }\n",
       "    const paths = {\n",
       "      \"vega\": \"https://cdn.jsdelivr.net/npm/vega@5?noext\",\n",
       "      \"vega-lib\": \"https://cdn.jsdelivr.net/npm/vega-lib?noext\",\n",
       "      \"vega-lite\": \"https://cdn.jsdelivr.net/npm/vega-lite@5.20.1?noext\",\n",
       "      \"vega-embed\": \"https://cdn.jsdelivr.net/npm/vega-embed@6?noext\",\n",
       "    };\n",
       "\n",
       "    function maybeLoadScript(lib, version) {\n",
       "      var key = `${lib.replace(\"-\", \"\")}_version`;\n",
       "      return (VEGA_DEBUG[key] == version) ?\n",
       "        Promise.resolve(paths[lib]) :\n",
       "        new Promise(function(resolve, reject) {\n",
       "          var s = document.createElement('script');\n",
       "          document.getElementsByTagName(\"head\")[0].appendChild(s);\n",
       "          s.async = true;\n",
       "          s.onload = () => {\n",
       "            VEGA_DEBUG[key] = version;\n",
       "            return resolve(paths[lib]);\n",
       "          };\n",
       "          s.onerror = () => reject(`Error loading script: ${paths[lib]}`);\n",
       "          s.src = paths[lib];\n",
       "        });\n",
       "    }\n",
       "\n",
       "    function showError(err) {\n",
       "      outputDiv.innerHTML = `<div class=\"error\" style=\"color:red;\">${err}</div>`;\n",
       "      throw err;\n",
       "    }\n",
       "\n",
       "    function displayChart(vegaEmbed) {\n",
       "      vegaEmbed(outputDiv, spec, embedOpt)\n",
       "        .catch(err => showError(`Javascript Error: ${err.message}<br>This usually means there's a typo in your chart specification. See the javascript console for the full traceback.`));\n",
       "    }\n",
       "\n",
       "    if(typeof define === \"function\" && define.amd) {\n",
       "      requirejs.config({paths});\n",
       "      require([\"vega-embed\"], displayChart, err => showError(`Error loading script: ${err.message}`));\n",
       "    } else {\n",
       "      maybeLoadScript(\"vega\", \"5\")\n",
       "        .then(() => maybeLoadScript(\"vega-lite\", \"5.20.1\"))\n",
       "        .then(() => maybeLoadScript(\"vega-embed\", \"6\"))\n",
       "        .catch(showError)\n",
       "        .then(() => displayChart(vegaEmbed));\n",
       "    }\n",
       "  })({\"config\": {\"view\": {\"continuousWidth\": 300, \"continuousHeight\": 300}}, \"data\": {\"name\": \"data-68db39c0dd48f1775b6f5a6ff2276aae\"}, \"mark\": {\"type\": \"point\"}, \"encoding\": {\"color\": {\"field\": \"metric\", \"legend\": {\"title\": \"Metric\"}, \"type\": \"nominal\"}, \"opacity\": {\"condition\": {\"param\": \"param_24\", \"value\": 1}, \"value\": 0.2}, \"tooltip\": [{\"field\": \"timestamp\", \"type\": \"temporal\"}, {\"field\": \"value\", \"type\": \"quantitative\"}, {\"field\": \"metric\", \"type\": \"nominal\"}, {\"field\": \"machine_number\", \"type\": \"quantitative\"}, {\"field\": \"control_number\", \"type\": \"quantitative\"}, {\"field\": \"test_step\", \"type\": \"nominal\"}], \"x\": {\"axis\": {\"title\": \"Timestamp\"}, \"field\": \"timestamp\", \"type\": \"temporal\"}, \"y\": {\"axis\": {\"title\": \"Value\"}, \"field\": \"value\", \"type\": \"quantitative\"}}, \"params\": [{\"name\": \"param_24\", \"select\": {\"type\": \"point\", \"fields\": [\"machine_number\", \"control_number\", \"test_step\"]}, \"bind\": \"legend\"}, {\"name\": \"param_25\", \"select\": {\"type\": \"interval\", \"encodings\": [\"x\", \"y\"]}, \"bind\": \"scales\"}], \"title\": \"S_VSENSE and S_OVP Over Time\", \"$schema\": \"https://vega.github.io/schema/vega-lite/v5.20.1.json\", \"datasets\": {\"data-68db39c0dd48f1775b6f5a6ff2276aae\": [{\"machine_number\": 414, \"control_number\": 4067, \"timestamp\": \"2024-09-14T00:57:58\", \"test_step\": \"IOD_Logic_Toggle_Stress_1hr\", \"metric\": \"S_VSENSE\", \"value\": 3.731}, {\"machine_number\": 414, \"control_number\": 4067, \"timestamp\": \"2024-09-19T13:03:53\", \"test_step\": \"IOD_Logic_Toggle_Stress_1hr\", \"metric\": \"S_VSENSE\", \"value\": 3.731}, {\"machine_number\": 406, \"control_number\": 4004, \"timestamp\": \"2024-08-10T16:47:31\", \"test_step\": \"CCD_RampUp_110C_1hr\", \"metric\": \"S_VSENSE\", \"value\": 3.751}, {\"machine_number\": 408, \"control_number\": 4058, \"timestamp\": \"2024-08-30T00:13:39\", \"test_step\": \"CCD_Logic_Toggle_Stress_1hr\", \"metric\": \"S_VSENSE\", \"value\": 3.731}, {\"machine_number\": 408, \"control_number\": 4058, \"timestamp\": \"2024-09-07T17:50:33\", \"test_step\": \"IOD_Logic_Toggle_Stress_1hr\", \"metric\": \"S_VSENSE\", \"value\": 3.731}, {\"machine_number\": 406, \"control_number\": 4126, \"timestamp\": \"2024-10-05T11:44:33\", \"test_step\": \"CCD_Logic_Toggle_Stress_1hr\", \"metric\": \"S_VSENSE\", \"value\": 3.731}, {\"machine_number\": 415, \"control_number\": 4087, \"timestamp\": \"2024-09-18T00:17:35\", \"test_step\": \"CCD_MBIST_Stress_1hr\", \"metric\": \"S_VSENSE\", \"value\": 3.731}, {\"machine_number\": 415, \"control_number\": 4074, \"timestamp\": \"2024-09-14T16:11:06\", \"test_step\": \"CCD_Logic_Toggle_Stress_1hr\", \"metric\": \"S_VSENSE\", \"value\": 3.731}, {\"machine_number\": 415, \"control_number\": 4074, \"timestamp\": \"2024-09-14T10:01:21\", \"test_step\": \"CCD_Logic_Toggle_Stress_1hr\", \"metric\": \"S_VSENSE\", \"value\": 3.731}, {\"machine_number\": 415, \"control_number\": 4074, \"timestamp\": \"2024-09-14T10:08:14\", \"test_step\": \"CCD_Logic_Toggle_Stress_1hr\", \"metric\": \"S_VSENSE\", \"value\": 3.731}, {\"machine_number\": 414, \"control_number\": 4067, \"timestamp\": \"2024-09-14T00:57:58\", \"test_step\": \"IOD_Logic_Toggle_Stress_1hr\", \"metric\": \"S_OVP\", \"value\": 3.73}, {\"machine_number\": 414, \"control_number\": 4067, \"timestamp\": \"2024-09-19T13:03:53\", \"test_step\": \"IOD_Logic_Toggle_Stress_1hr\", \"metric\": \"S_OVP\", \"value\": 3.73}, {\"machine_number\": 406, \"control_number\": 4004, \"timestamp\": \"2024-08-10T16:47:31\", \"test_step\": \"CCD_RampUp_110C_1hr\", \"metric\": \"S_OVP\", \"value\": 3.75}, {\"machine_number\": 408, \"control_number\": 4058, \"timestamp\": \"2024-08-30T00:13:39\", \"test_step\": \"CCD_Logic_Toggle_Stress_1hr\", \"metric\": \"S_OVP\", \"value\": 3.73}, {\"machine_number\": 408, \"control_number\": 4058, \"timestamp\": \"2024-09-07T17:50:33\", \"test_step\": \"IOD_Logic_Toggle_Stress_1hr\", \"metric\": \"S_OVP\", \"value\": 3.73}, {\"machine_number\": 406, \"control_number\": 4126, \"timestamp\": \"2024-10-05T11:44:33\", \"test_step\": \"CCD_Logic_Toggle_Stress_1hr\", \"metric\": \"S_OVP\", \"value\": 3.73}, {\"machine_number\": 415, \"control_number\": 4087, \"timestamp\": \"2024-09-18T00:17:35\", \"test_step\": \"CCD_MBIST_Stress_1hr\", \"metric\": \"S_OVP\", \"value\": 3.73}, {\"machine_number\": 415, \"control_number\": 4074, \"timestamp\": \"2024-09-14T16:11:06\", \"test_step\": \"CCD_Logic_Toggle_Stress_1hr\", \"metric\": \"S_OVP\", \"value\": 3.73}, {\"machine_number\": 415, \"control_number\": 4074, \"timestamp\": \"2024-09-14T10:01:21\", \"test_step\": \"CCD_Logic_Toggle_Stress_1hr\", \"metric\": \"S_OVP\", \"value\": 3.73}, {\"machine_number\": 415, \"control_number\": 4074, \"timestamp\": \"2024-09-14T10:08:14\", \"test_step\": \"CCD_Logic_Toggle_Stress_1hr\", \"metric\": \"S_OVP\", \"value\": 3.73}]}}, {\"mode\": \"vega-lite\"});\n",
       "</script>"
      ],
      "text/plain": [
       "alt.Chart(...)"
      ]
     },
     "metadata": {},
     "output_type": "display_data"
    }
   ],
   "source": [
    "product = \"Breithorn\"\n",
    "visualise(product)"
   ]
  }
 ],
 "metadata": {
  "kernelspec": {
   "display_name": "tmon_alert",
   "language": "python",
   "name": "python3"
  },
  "language_info": {
   "codemirror_mode": {
    "name": "ipython",
    "version": 3
   },
   "file_extension": ".py",
   "mimetype": "text/x-python",
   "name": "python",
   "nbconvert_exporter": "python",
   "pygments_lexer": "ipython3",
   "version": "3.12.4"
  }
 },
 "nbformat": 4,
 "nbformat_minor": 2
}
